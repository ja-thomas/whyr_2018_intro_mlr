{
 "cells": [
  {
   "cell_type": "markdown",
   "metadata": {},
   "source": [
    "# Why R Conference? Introduction to mlr"
   ]
  },
  {
   "cell_type": "markdown",
   "metadata": {},
   "source": [
    "## Resampling\n",
    "\n",
    "We will continue our example for spam classification\n",
    "\n",
    "a) Instead of manually splitting train and test set create a holdout set directly in mlr. Use the set to evaluate the performance of an algorithm of your choice on the spam data. Use 80% of the data for training and create stratified splits."
   ]
  },
  {
   "cell_type": "code",
   "execution_count": 2,
   "metadata": {},
   "outputs": [],
   "source": [
    "library(mlr)\n",
    "data(spam, package = \"kernlab\")\n",
    "spam.task = makeClassifTask(data = spam, target = \"type\")\n",
    "lrn = makeLearner(\"classif.rpart\", predict.type = \"prob\")\n"
   ]
  },
  {
   "cell_type": "markdown",
   "metadata": {},
   "source": [
    "b) Now create a 10-fold crossvalidation and evaluate AUC and training time"
   ]
  },
  {
   "cell_type": "code",
   "execution_count": 8,
   "metadata": {
    "scrolled": true
   },
   "outputs": [
    {
     "name": "stderr",
     "output_type": "stream",
     "text": [
      "Resampling: cross-validation\n",
      "Measures:             auc         timetrain   \n",
      "[Resample] iter 1:    0.8629      0.2080      \n",
      "[Resample] iter 2:    0.9015      0.0880      \n",
      "[Resample] iter 3:    0.8920      0.0950      \n",
      "[Resample] iter 4:    0.8746      0.0770      \n",
      "[Resample] iter 5:    0.9095      0.1930      \n",
      "[Resample] iter 6:    0.8981      0.0940      \n",
      "[Resample] iter 7:    0.8812      0.1820      \n",
      "[Resample] iter 8:    0.9100      0.0760      \n",
      "[Resample] iter 9:    0.8867      0.0800      \n",
      "[Resample] iter 10:   0.9134      0.0760      \n",
      "\n",
      "\n",
      "Aggregated Result: auc.test.mean=0.8930,timetrain.test.mean=0.1169\n",
      "\n",
      "\n"
     ]
    },
    {
     "data": {
      "text/plain": [
       "Resample Result\n",
       "Task: spam\n",
       "Learner: classif.rpart\n",
       "Aggr perf: auc.test.mean=0.8930,timetrain.test.mean=0.1169\n",
       "Runtime: 1.48959"
      ]
     },
     "metadata": {},
     "output_type": "display_data"
    }
   ],
   "source": [
    "resample(lrn, spam.task, cv10, measures = list(auc, timetrain))"
   ]
  },
  {
   "cell_type": "markdown",
   "metadata": {},
   "source": [
    "## Benchmarking\n",
    "\n",
    "We would like to create a small benchmark study to see how much complexity is required to achieve an AUC of at least 98%.\n",
    "\n",
    "a) Create the following learning algorithms to compare their performance\n",
    "- Featureless baseline learner\n",
    "- Linear Discriminant Analysis\n",
    "- Logistic Regression\n",
    "- Classification Tree\n",
    "- Random Forest"
   ]
  },
  {
   "cell_type": "code",
   "execution_count": 12,
   "metadata": {},
   "outputs": [
    {
     "data": {
      "text/plain": [
       "$classif.featureless\n",
       "Learner classif.featureless from package mlr\n",
       "Type: classif\n",
       "Name: Featureless classifier; Short name: featureless\n",
       "Class: classif.featureless\n",
       "Properties: twoclass,multiclass,numerics,factors,ordered,missings,prob,functionals\n",
       "Predict-Type: prob\n",
       "Hyperparameters: \n",
       "\n",
       "\n",
       "$classif.lda\n",
       "Learner classif.lda from package MASS\n",
       "Type: classif\n",
       "Name: Linear Discriminant Analysis; Short name: lda\n",
       "Class: classif.lda\n",
       "Properties: twoclass,multiclass,numerics,factors,prob\n",
       "Predict-Type: prob\n",
       "Hyperparameters: \n",
       "\n",
       "\n",
       "$classif.logreg\n",
       "Learner classif.logreg from package stats\n",
       "Type: classif\n",
       "Name: Logistic Regression; Short name: logreg\n",
       "Class: classif.logreg\n",
       "Properties: twoclass,numerics,factors,prob,weights\n",
       "Predict-Type: prob\n",
       "Hyperparameters: model=FALSE\n",
       "\n",
       "\n",
       "$classif.rpart\n",
       "Learner classif.rpart from package rpart\n",
       "Type: classif\n",
       "Name: Decision Tree; Short name: rpart\n",
       "Class: classif.rpart\n",
       "Properties: twoclass,multiclass,missings,numerics,factors,ordered,prob,weights,featimp\n",
       "Predict-Type: prob\n",
       "Hyperparameters: xval=0\n",
       "\n",
       "\n",
       "$classif.randomForest\n",
       "Learner classif.randomForest from package randomForest\n",
       "Type: classif\n",
       "Name: Random Forest; Short name: rf\n",
       "Class: classif.randomForest\n",
       "Properties: twoclass,multiclass,numerics,factors,ordered,prob,class.weights,oobpreds,featimp\n",
       "Predict-Type: prob\n",
       "Hyperparameters: \n",
       "\n"
      ]
     },
     "metadata": {},
     "output_type": "display_data"
    }
   ],
   "source": [
    "lrns = makeLearners(type = \"classif\", c(\"featureless\", \"lda\", \"logreg\", \"rpart\", \n",
    "                                        \"randomForest\"), predict.type = \"prob\")\n",
    "lrns"
   ]
  },
  {
   "cell_type": "markdown",
   "metadata": {},
   "source": [
    "b) Benchmark the five learning algorithms with a 5-fold crossvalidation (ensure identical folds for all learners). Measure the AUC as well as the runtime. "
   ]
  },
  {
   "cell_type": "code",
   "execution_count": 13,
   "metadata": {},
   "outputs": [
    {
     "name": "stderr",
     "output_type": "stream",
     "text": [
      "Task: spam, Learner: classif.featureless\n",
      "Resampling: cross-validation\n",
      "Measures:             auc         timetrain   \n",
      "[Resample] iter 1:    0.5000      0.0010      \n",
      "[Resample] iter 2:    0.5000      0.0000      \n",
      "[Resample] iter 3:    0.5000      0.0010      \n",
      "[Resample] iter 4:    0.5000      0.0000      \n",
      "[Resample] iter 5:    0.5000      0.0000      \n",
      "\n",
      "\n",
      "Aggregated Result: auc.test.mean=0.5000,timetrain.test.mean=0.0004\n",
      "\n",
      "\n",
      "Task: spam, Learner: classif.lda\n",
      "Resampling: cross-validation\n",
      "Measures:             auc         timetrain   \n",
      "[Resample] iter 1:    0.9496      0.1980      \n",
      "[Resample] iter 2:    0.9481      0.0760      \n",
      "[Resample] iter 3:    0.9498      0.1770      \n",
      "[Resample] iter 4:    0.9511      0.1810      \n",
      "[Resample] iter 5:    0.9572      0.0730      \n",
      "\n",
      "\n",
      "Aggregated Result: auc.test.mean=0.9512,timetrain.test.mean=0.1410\n",
      "\n",
      "\n",
      "Task: spam, Learner: classif.logreg\n",
      "Resampling: cross-validation\n",
      "Measures:             auc         timetrain   \n",
      "Warning message:\n",
      "\"glm.fit: fitted probabilities numerically 0 or 1 occurred\"[Resample] iter 1:    0.9782      0.3370      \n",
      "Warning message:\n",
      "\"glm.fit: fitted probabilities numerically 0 or 1 occurred\"[Resample] iter 2:    0.9664      0.2040      \n",
      "Warning message:\n",
      "\"glm.fit: fitted probabilities numerically 0 or 1 occurred\"[Resample] iter 3:    0.9729      0.6060      \n",
      "Warning message:\n",
      "\"glm.fit: fitted probabilities numerically 0 or 1 occurred\"[Resample] iter 4:    0.9663      0.2560      \n",
      "Warning message:\n",
      "\"glm.fit: fitted probabilities numerically 0 or 1 occurred\"[Resample] iter 5:    0.9727      0.2610      \n",
      "\n",
      "\n",
      "Aggregated Result: auc.test.mean=0.9713,timetrain.test.mean=0.3328\n",
      "\n",
      "\n",
      "Task: spam, Learner: classif.rpart\n",
      "Resampling: cross-validation\n",
      "Measures:             auc         timetrain   \n",
      "[Resample] iter 1:    0.9209      0.0920      \n",
      "[Resample] iter 2:    0.8836      0.0770      \n",
      "[Resample] iter 3:    0.8876      0.0810      \n",
      "[Resample] iter 4:    0.8857      0.0820      \n",
      "[Resample] iter 5:    0.8861      0.0850      \n",
      "\n",
      "\n",
      "Aggregated Result: auc.test.mean=0.8928,timetrain.test.mean=0.0834\n",
      "\n",
      "\n",
      "Task: spam, Learner: classif.randomForest\n",
      "Resampling: cross-validation\n",
      "Measures:             auc         timetrain   \n",
      "[Resample] iter 1:    0.9864      8.7650      \n",
      "[Resample] iter 2:    0.9869      8.0070      \n",
      "[Resample] iter 3:    0.9886      8.2570      \n",
      "[Resample] iter 4:    0.9843      7.8430      \n",
      "[Resample] iter 5:    0.9852      8.5010      \n",
      "\n",
      "\n",
      "Aggregated Result: auc.test.mean=0.9863,timetrain.test.mean=8.2746\n",
      "\n",
      "\n"
     ]
    }
   ],
   "source": [
    "bmr = benchmark(lrns, spam.task, cv5, measures = list(auc, timetrain))"
   ]
  },
  {
   "cell_type": "markdown",
   "metadata": {},
   "source": [
    "c) Vizualize the results. Which learner would you use in practice and as a spam detector?"
   ]
  },
  {
   "cell_type": "code",
   "execution_count": 16,
   "metadata": {},
   "outputs": [
    {
     "data": {},
     "metadata": {},
     "output_type": "display_data"
    },
    {
     "data": {},
     "metadata": {},
     "output_type": "display_data"
    },
    {
     "data": {
      "image/png": "[encoded data removed]",
      "text/plain": [
       "plot without title"
      ]
     },
     "metadata": {},
     "output_type": "display_data"
    },
    {
     "data": {
      "image/png": "[encoded data removed]",
      "text/plain": [
       "plot without title"
      ]
     },
     "metadata": {},
     "output_type": "display_data"
    }
   ],
   "source": [
    "plotBMRBoxplots(bmr, measure = auc)\n",
    "plotBMRBoxplots(bmr, measure = timetrain)"
   ]
  },
  {
   "cell_type": "markdown",
   "metadata": {},
   "source": [
    "## Tuning \n",
    "\n",
    "Tune `mtry` and `nodesize` and `sampsize` of the random forest to get the best possible tuning error.\n",
    "\n",
    "a) Define reasonable bounds for the parameter space. (Hint: Have a look at the number of rows and columns of the spam data)\n",
    "\n",
    "b) Use a random search to optimize over the parameter space.\n",
    "\n",
    "c) Why can't you directly compare the error of the tuned model with the results of benchmark? What should you do instead?"
   ]
  },
  {
   "cell_type": "code",
   "execution_count": 19,
   "metadata": {},
   "outputs": [
    {
     "name": "stderr",
     "output_type": "stream",
     "text": [
      "[Tune] Started tuning learner classif.randomForest for parameter set:\n",
      "            Type len Def        Constr Req Tunable Trafo\n",
      "mtry     integer   -   -       1 to 57   -    TRUE     -\n",
      "nodesize integer   -   -     10 to 920   -    TRUE     -\n",
      "sampsize integer   -   - 1 to 2.76e+03   -    TRUE     -\n",
      "With control class: TuneControlRandom\n",
      "Imputation value: -0\n",
      "[Tune-x] 1: mtry=10; nodesize=867; sampsize=2263\n",
      "[Tune-y] 1: auc.test.mean=0.9518; time: 0.0 min\n",
      "[Tune-x] 2: mtry=27; nodesize=509; sampsize=1310\n",
      "[Tune-y] 2: auc.test.mean=0.9492; time: 0.0 min\n",
      "[Tune-x] 3: mtry=18; nodesize=171; sampsize=1850\n",
      "[Tune-y] 3: auc.test.mean=0.9661; time: 0.1 min\n",
      "[Tune-x] 4: mtry=19; nodesize=745; sampsize=654\n",
      "[Tune-y] 4: auc.test.mean=0.9383; time: 0.0 min\n",
      "[Tune-x] 5: mtry=25; nodesize=360; sampsize=965\n",
      "[Tune-y] 5: auc.test.mean=0.9513; time: 0.0 min\n",
      "[Tune-x] 6: mtry=21; nodesize=604; sampsize=452\n",
      "[Tune-y] 6: auc.test.mean=0.9383; time: 0.0 min\n",
      "[Tune-x] 7: mtry=34; nodesize=314; sampsize=1668\n",
      "[Tune-y] 7: auc.test.mean=0.9577; time: 0.1 min\n",
      "[Tune-x] 8: mtry=19; nodesize=470; sampsize=623\n",
      "[Tune-y] 8: auc.test.mean=0.9399; time: 0.0 min\n",
      "[Tune-x] 9: mtry=10; nodesize=389; sampsize=1984\n",
      "[Tune-y] 9: auc.test.mean=0.9630; time: 0.0 min\n",
      "[Tune-x] 10: mtry=18; nodesize=345; sampsize=1807\n",
      "[Tune-y] 10: auc.test.mean=0.9597; time: 0.1 min\n",
      "[Tune] Result: mtry=18; nodesize=171; sampsize=1850 : auc.test.mean=0.9661\n"
     ]
    }
   ],
   "source": [
    "n = getTaskSize(spam.task)\n",
    "p = getTaskNFeats(spam.task)\n",
    "ps = makeParamSet(\n",
    "    makeIntegerParam(\"mtry\", lower = 1, upper = p),\n",
    "    makeIntegerParam(\"nodesize\", lower = 10, upper = 0.2 * n),\n",
    "    makeIntegerParam(\"sampsize\", lower = 1, upper = 0.6 * n)\n",
    ")\n",
    "\n",
    "tune.control = makeTuneControlRandom(maxit = 10)\n",
    "lrn = makeLearner(\"classif.randomForest\", predict.type = \"prob\")\n",
    "\n",
    "res = tuneParams(lrn, spam.task, hout, auc, ps, tune.control)\n"
   ]
  },
  {
   "cell_type": "code",
   "execution_count": 20,
   "metadata": {},
   "outputs": [
    {
     "data": {
      "text/plain": [
       "Tune result:\n",
       "Op. pars: mtry=18; nodesize=171; sampsize=1850\n",
       "auc.test.mean=0.9661"
      ]
     },
     "metadata": {},
     "output_type": "display_data"
    }
   ],
   "source": []
  }
 ],
 "metadata": {
  "kernelspec": {
   "display_name": "R",
   "language": "R",
   "name": "ir"
  },
  "language_info": {
   "codemirror_mode": "r",
   "file_extension": ".r",
   "mimetype": "text/x-r-source",
   "name": "R",
   "pygments_lexer": "r",
   "version": "3.4.4"
  }
 },
 "nbformat": 4,
 "nbformat_minor": 2
}
